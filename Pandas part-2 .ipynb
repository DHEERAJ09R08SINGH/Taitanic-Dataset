{
 "cells": [
  {
   "cell_type": "code",
   "execution_count": 3,
   "id": "865a2717-cd48-443c-aa30-910219f723c6",
   "metadata": {},
   "outputs": [],
   "source": [
    "import pandas as pd"
   ]
  },
  {
   "cell_type": "code",
   "execution_count": 4,
   "id": "d3d88ecf-adb1-4393-898f-df5cebbdb43e",
   "metadata": {},
   "outputs": [],
   "source": [
    "df = pd.read_csv(\"https://raw.githubusercontent.com/datasciencedojo/datasets/master/titanic.csv\")"
   ]
  },
  {
   "cell_type": "code",
   "execution_count": 14,
   "id": "f1a0ff89-d0ef-49fd-80e4-e05fc0d72f1b",
   "metadata": {},
   "outputs": [
    {
     "data": {
      "text/plain": [
       "Index(['PassengerId', 'Survived', 'Pclass', 'Name', 'Sex', 'Age', 'SibSp',\n",
       "       'Parch', 'Ticket', 'Fare', 'Cabin', 'Embarked'],\n",
       "      dtype='object')"
      ]
     },
     "execution_count": 14,
     "metadata": {},
     "output_type": "execute_result"
    }
   ],
   "source": [
    "df.columns"
   ]
  },
  {
   "cell_type": "code",
   "execution_count": 15,
   "id": "89c137b3-1372-4892-9149-41dfe5d7c75b",
   "metadata": {},
   "outputs": [],
   "source": [
    "s = df['Name'][0:10]"
   ]
  },
  {
   "cell_type": "code",
   "execution_count": 16,
   "id": "44609161-508f-43d2-a6c1-01950dcdd06f",
   "metadata": {},
   "outputs": [
    {
     "data": {
      "text/plain": [
       "0                              Braund, Mr. Owen Harris\n",
       "1    Cumings, Mrs. John Bradley (Florence Briggs Th...\n",
       "2                               Heikkinen, Miss. Laina\n",
       "3         Futrelle, Mrs. Jacques Heath (Lily May Peel)\n",
       "4                             Allen, Mr. William Henry\n",
       "5                                     Moran, Mr. James\n",
       "6                              McCarthy, Mr. Timothy J\n",
       "7                       Palsson, Master. Gosta Leonard\n",
       "8    Johnson, Mrs. Oscar W (Elisabeth Vilhelmina Berg)\n",
       "9                  Nasser, Mrs. Nicholas (Adele Achem)\n",
       "Name: Name, dtype: object"
      ]
     },
     "execution_count": 16,
     "metadata": {},
     "output_type": "execute_result"
    }
   ],
   "source": [
    "s"
   ]
  },
  {
   "cell_type": "code",
   "execution_count": 17,
   "id": "1d51724d-8fae-44fe-ac3e-053db3fe5682",
   "metadata": {},
   "outputs": [
    {
     "data": {
      "text/plain": [
       "10"
      ]
     },
     "execution_count": 17,
     "metadata": {},
     "output_type": "execute_result"
    }
   ],
   "source": [
    "len(s)"
   ]
  },
  {
   "cell_type": "code",
   "execution_count": 23,
   "id": "165cb193-27cd-41de-94b9-24d709ef15ef",
   "metadata": {},
   "outputs": [],
   "source": [
    "l = ['a','b','c','dheeraj','e','f','g','h','i','j']\n"
   ]
  },
  {
   "cell_type": "code",
   "execution_count": 24,
   "id": "e9ed347e-7ef0-4fe4-a988-d586fc6595a8",
   "metadata": {},
   "outputs": [],
   "source": [
    "s1 = pd.Series(list(s),index=l)"
   ]
  },
  {
   "cell_type": "code",
   "execution_count": 25,
   "id": "9125a4f0-56c2-40cc-872a-d416591ed075",
   "metadata": {},
   "outputs": [
    {
     "data": {
      "text/plain": [
       "'Braund, Mr. Owen Harris'"
      ]
     },
     "execution_count": 25,
     "metadata": {},
     "output_type": "execute_result"
    }
   ],
   "source": [
    "s[0]"
   ]
  },
  {
   "cell_type": "code",
   "execution_count": 28,
   "id": "25e49727-f194-438f-8941-575fe70c465b",
   "metadata": {},
   "outputs": [
    {
     "data": {
      "text/plain": [
       "'Braund, Mr. Owen Harris'"
      ]
     },
     "execution_count": 28,
     "metadata": {},
     "output_type": "execute_result"
    }
   ],
   "source": [
    "s1[0] #internal index remember always"
   ]
  },
  {
   "cell_type": "code",
   "execution_count": 29,
   "id": "9dcbf656-af04-4698-b7a1-52941ab871fb",
   "metadata": {},
   "outputs": [
    {
     "data": {
      "text/plain": [
       "'Futrelle, Mrs. Jacques Heath (Lily May Peel)'"
      ]
     },
     "execution_count": 29,
     "metadata": {},
     "output_type": "execute_result"
    }
   ],
   "source": [
    "s1['dheeraj']"
   ]
  },
  {
   "cell_type": "code",
   "execution_count": 33,
   "id": "e38156ca-8c22-48e2-8697-330579267e75",
   "metadata": {},
   "outputs": [
    {
     "name": "stderr",
     "output_type": "stream",
     "text": [
      "/tmp/ipykernel_98/1605337196.py:1: FutureWarning: The series.append method is deprecated and will be removed from pandas in a future version. Use pandas.concat instead.\n",
      "  s2 = s1.append(s)\n"
     ]
    },
    {
     "data": {
      "text/plain": [
       "a                                    Braund, Mr. Owen Harris\n",
       "b          Cumings, Mrs. John Bradley (Florence Briggs Th...\n",
       "c                                     Heikkinen, Miss. Laina\n",
       "dheeraj         Futrelle, Mrs. Jacques Heath (Lily May Peel)\n",
       "e                                   Allen, Mr. William Henry\n",
       "f                                           Moran, Mr. James\n",
       "g                                    McCarthy, Mr. Timothy J\n",
       "h                             Palsson, Master. Gosta Leonard\n",
       "i          Johnson, Mrs. Oscar W (Elisabeth Vilhelmina Berg)\n",
       "j                        Nasser, Mrs. Nicholas (Adele Achem)\n",
       "0                                    Braund, Mr. Owen Harris\n",
       "1          Cumings, Mrs. John Bradley (Florence Briggs Th...\n",
       "2                                     Heikkinen, Miss. Laina\n",
       "3               Futrelle, Mrs. Jacques Heath (Lily May Peel)\n",
       "4                                   Allen, Mr. William Henry\n",
       "5                                           Moran, Mr. James\n",
       "6                                    McCarthy, Mr. Timothy J\n",
       "7                             Palsson, Master. Gosta Leonard\n",
       "8          Johnson, Mrs. Oscar W (Elisabeth Vilhelmina Berg)\n",
       "9                        Nasser, Mrs. Nicholas (Adele Achem)\n",
       "dtype: object"
      ]
     },
     "execution_count": 33,
     "metadata": {},
     "output_type": "execute_result"
    }
   ],
   "source": [
    "s2 = s1.append(s)\n",
    "s2"
   ]
  },
  {
   "cell_type": "code",
   "execution_count": 32,
   "id": "363ddbdf-7768-4426-8a5a-4826eb63930d",
   "metadata": {},
   "outputs": [
    {
     "data": {
      "text/plain": [
       "'Braund, Mr. Owen Harris'"
      ]
     },
     "execution_count": 32,
     "metadata": {},
     "output_type": "execute_result"
    }
   ],
   "source": [
    "s2[0]"
   ]
  },
  {
   "cell_type": "code",
   "execution_count": 36,
   "id": "eba18320-8ca0-44a1-b7b0-05a96b32c162",
   "metadata": {},
   "outputs": [],
   "source": [
    "s3 = pd.Series([3,4,5,6,6],index=[2,4,5,6,1])"
   ]
  },
  {
   "cell_type": "code",
   "execution_count": 37,
   "id": "c5e6c3b0-fcb7-4430-b1ed-1c96c917af39",
   "metadata": {},
   "outputs": [],
   "source": [
    "s4 = pd.Series([34,345,45,45,454],index=[9,4,5,6,7])"
   ]
  },
  {
   "cell_type": "code",
   "execution_count": 39,
   "id": "6084017f-4ea9-4a13-9c26-46bd2e4c5832",
   "metadata": {},
   "outputs": [
    {
     "name": "stderr",
     "output_type": "stream",
     "text": [
      "/tmp/ipykernel_98/2271913347.py:1: FutureWarning: The series.append method is deprecated and will be removed from pandas in a future version. Use pandas.concat instead.\n",
      "  s5 = s3.append(s4)\n"
     ]
    }
   ],
   "source": [
    "s5 = s3.append(s4)"
   ]
  },
  {
   "cell_type": "code",
   "execution_count": 41,
   "id": "c2d97d4a-0d68-4a04-9f23-558c2a258f39",
   "metadata": {},
   "outputs": [
    {
     "data": {
      "text/plain": [
       "4      4\n",
       "4    345\n",
       "dtype: int64"
      ]
     },
     "execution_count": 41,
     "metadata": {},
     "output_type": "execute_result"
    }
   ],
   "source": [
    "s5[4] #taking data from given named index not default"
   ]
  },
  {
   "cell_type": "code",
   "execution_count": 43,
   "id": "8d1048ac-2c65-4e3e-9e90-959a52bbd9ae",
   "metadata": {},
   "outputs": [
    {
     "name": "stderr",
     "output_type": "stream",
     "text": [
      "/tmp/ipykernel_98/2629195334.py:1: FutureWarning: The behavior of `series[i:j]` with an integer-dtype index is deprecated. In a future version, this will be treated as *label-based* indexing, consistent with e.g. `series[i]` lookups. To retain the old behavior, use `series.iloc[i:j]`. To get the future behavior, use `series.loc[i:j]`.\n",
      "  s5[0:6] #in case of slicing it takes default indexes\n"
     ]
    },
    {
     "data": {
      "text/plain": [
       "2     3\n",
       "4     4\n",
       "5     5\n",
       "6     6\n",
       "1     6\n",
       "9    34\n",
       "dtype: int64"
      ]
     },
     "execution_count": 43,
     "metadata": {},
     "output_type": "execute_result"
    }
   ],
   "source": [
    "s5[0:6] #in case of slicing it takes default indexes"
   ]
  },
  {
   "cell_type": "code",
   "execution_count": 44,
   "id": "182827e3-bbac-450f-8f98-6c8c59cda601",
   "metadata": {},
   "outputs": [
    {
     "data": {
      "text/plain": [
       "2    3\n",
       "4    4\n",
       "5    5\n",
       "6    6\n",
       "1    6\n",
       "dtype: int64"
      ]
     },
     "execution_count": 44,
     "metadata": {},
     "output_type": "execute_result"
    }
   ],
   "source": [
    "s3"
   ]
  },
  {
   "cell_type": "code",
   "execution_count": 45,
   "id": "07f331d7-9414-45cf-b86a-61e681c55042",
   "metadata": {},
   "outputs": [
    {
     "data": {
      "text/plain": [
       "9     34\n",
       "4    345\n",
       "5     45\n",
       "6     45\n",
       "7    454\n",
       "dtype: int64"
      ]
     },
     "execution_count": 45,
     "metadata": {},
     "output_type": "execute_result"
    }
   ],
   "source": [
    "s4"
   ]
  },
  {
   "cell_type": "code",
   "execution_count": 46,
   "id": "d7371f58-ea4b-4c2e-8e55-d4c3ab42368d",
   "metadata": {},
   "outputs": [
    {
     "data": {
      "text/plain": [
       "1       NaN\n",
       "2       NaN\n",
       "4    1380.0\n",
       "5     225.0\n",
       "6     270.0\n",
       "7       NaN\n",
       "9       NaN\n",
       "dtype: float64"
      ]
     },
     "execution_count": 46,
     "metadata": {},
     "output_type": "execute_result"
    }
   ],
   "source": [
    "s3*s4"
   ]
  },
  {
   "cell_type": "code",
   "execution_count": 47,
   "id": "1ec53144-1db4-47ea-8692-9ec21ea7af29",
   "metadata": {},
   "outputs": [
    {
     "data": {
      "text/plain": [
       "1      NaN\n",
       "2      NaN\n",
       "4    349.0\n",
       "5     50.0\n",
       "6     51.0\n",
       "7      NaN\n",
       "9      NaN\n",
       "dtype: float64"
      ]
     },
     "execution_count": 47,
     "metadata": {},
     "output_type": "execute_result"
    }
   ],
   "source": [
    "s3+s4"
   ]
  },
  {
   "cell_type": "code",
   "execution_count": null,
   "id": "f669e39d-056d-4871-963c-b0ef286efae8",
   "metadata": {},
   "outputs": [],
   "source": []
  }
 ],
 "metadata": {
  "kernelspec": {
   "display_name": "Python 3 (ipykernel)",
   "language": "python",
   "name": "python3"
  },
  "language_info": {
   "codemirror_mode": {
    "name": "ipython",
    "version": 3
   },
   "file_extension": ".py",
   "mimetype": "text/x-python",
   "name": "python",
   "nbconvert_exporter": "python",
   "pygments_lexer": "ipython3",
   "version": "3.10.8"
  }
 },
 "nbformat": 4,
 "nbformat_minor": 5
}
